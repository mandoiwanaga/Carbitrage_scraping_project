{
 "cells": [
  {
   "cell_type": "markdown",
   "metadata": {},
   "source": [
    "### CARBITRAGE SCRAPING \n",
    "##### AND DATA PREPARATION\n",
    "- Squad == Werlindo Mangro!, Jacob Crabb,<br> Mando Iwanaga, Alex Shropshire"
   ]
  },
  {
   "cell_type": "code",
   "execution_count": 24,
   "metadata": {},
   "outputs": [],
   "source": [
    "from selenium.webdriver import Firefox\n",
    "from selenium.webdriver.common.keys import Keys\n",
    "\n",
    "import requests\n",
    "import random\n",
    "import time\n",
    "\n",
    "from mongo_prep import prep_lists_for_mongo\n",
    "from scrape_functions import (get_css_mileage,\n",
    "                              get_css_price,\n",
    "                              get_css_title_and_year,\n",
    "                              get_next_page)\n",
    "\n",
    "import pymongo\n",
    "import json\n",
    "\n",
    "import pandas as pd"
   ]
  },
  {
   "cell_type": "code",
   "execution_count": 5,
   "metadata": {},
   "outputs": [],
   "source": [
    "browser = Firefox()\n",
    "\n",
    "url = \"\"\"https://www.cars.com/for-sale/searchresults.action/?\n",
    "mdId=22250&mkId=20088&prMx=50000&rd=99999&searchSource=QUICK\n",
    "_FORM&stkTypId=28881&zc=98101\"\"\"  \n",
    "\n",
    "browser.get(url)"
   ]
  },
  {
   "cell_type": "markdown",
   "metadata": {},
   "source": [
    "**MongoDB**"
   ]
  },
  {
   "cell_type": "code",
   "execution_count": 17,
   "metadata": {},
   "outputs": [],
   "source": [
    "mc = pymongo.MongoClient()\n",
    "\n",
    "cars_db = mc['carbitrage']\n",
    "\n",
    "tacomas_coll = cars_db['tacomas']"
   ]
  },
  {
   "cell_type": "code",
   "execution_count": 18,
   "metadata": {},
   "outputs": [],
   "source": [
    "#Run this if you want to clear mongodb collection:\n",
    "#tacomas_coll.delete_many({})"
   ]
  },
  {
   "cell_type": "code",
   "execution_count": 18,
   "metadata": {},
   "outputs": [],
   "source": [
    "for page in range(5):\n",
    "    prices = get_css_price(browser)\n",
    "    mileages = get_css_mileage(browser)\n",
    "    titles,years = get_css_title_and_year(browser)\n",
    "    get_next_page(browser) #screen size could \n",
    "    #break this due to Cars.com Compare Tray\n",
    "    tacomas_coll.insert_many(prep_lists_for_mongo(\n",
    "        titles,years,prices,mileages))\n",
    "    time.sleep(3 + random.random()*10)"
   ]
  },
  {
   "cell_type": "code",
   "execution_count": 22,
   "metadata": {},
   "outputs": [
    {
     "data": {
      "text/plain": [
       "[{'_id': ObjectId('5cc39ef717af3c1b48109bfd'),\n",
       "  'title': '2015 Toyota Tacoma Base',\n",
       "  'year': '2015',\n",
       "  'price': '$15,425',\n",
       "  'miles': '91,301 mi.'},\n",
       " {'_id': ObjectId('5cc39ef717af3c1b48109bfe'),\n",
       "  'title': '2017 Toyota Tacoma SR5',\n",
       "  'year': '2017',\n",
       "  'price': '$23,000',\n",
       "  'miles': '22,553 mi.'},\n",
       " {'_id': ObjectId('5cc39ef717af3c1b48109bff'),\n",
       "  'title': '2018 Toyota Tacoma SR',\n",
       "  'year': '2018',\n",
       "  'price': '$23,988',\n",
       "  'miles': '21,961 mi.'},\n",
       " {'_id': ObjectId('5cc39ef717af3c1b48109c00'),\n",
       "  'title': '2018 Toyota Tacoma TRD Sport',\n",
       "  'year': '2018',\n",
       "  'price': '$32,496',\n",
       "  'miles': '5,814 mi.'},\n",
       " {'_id': ObjectId('5cc39ef717af3c1b48109c01'),\n",
       "  'title': '2017 Toyota Tacoma TRD Off Road',\n",
       "  'year': '2017',\n",
       "  'price': '$26,194',\n",
       "  'miles': '57,397 mi.'}]"
      ]
     },
     "execution_count": 22,
     "metadata": {},
     "output_type": "execute_result"
    }
   ],
   "source": [
    "list(tacomas_coll.find())[:5]"
   ]
  },
  {
   "cell_type": "code",
   "execution_count": null,
   "metadata": {},
   "outputs": [],
   "source": []
  }
 ],
 "metadata": {
  "kernelspec": {
   "display_name": "learn-env",
   "language": "python",
   "name": "learn-env"
  },
  "language_info": {
   "codemirror_mode": {
    "name": "ipython",
    "version": 3
   },
   "file_extension": ".py",
   "mimetype": "text/x-python",
   "name": "python",
   "nbconvert_exporter": "python",
   "pygments_lexer": "ipython3",
   "version": "3.6.6"
  }
 },
 "nbformat": 4,
 "nbformat_minor": 2
}
