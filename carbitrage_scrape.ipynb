{
 "cells": [
  {
   "cell_type": "markdown",
   "metadata": {},
   "source": [
    "### CARBITRAGE SCRAPING \n",
    "##### AND DATA PREPARATION\n",
    "- Squad == Werlindo Mangro!, Jacob Crabb,<br> Mando Iwanaga, Alex Shropshire"
   ]
  },
  {
   "cell_type": "markdown",
   "metadata": {},
   "source": [
    "**Import necessary libraries**"
   ]
  },
  {
   "cell_type": "code",
   "execution_count": 1,
   "metadata": {},
   "outputs": [],
   "source": [
    "#webscraping\n",
    "from selenium.webdriver import Firefox\n",
    "from selenium.webdriver.common.keys import Keys\n",
    "import requests\n",
    "import random\n",
    "import time\n",
    "\n",
    "#custom made functions\n",
    "from mongo_prep import prep_lists_for_mongo\n",
    "from scrape_functions import (get_css_mileage,\n",
    "                              get_css_price,\n",
    "                              get_css_title_and_year,\n",
    "                              get_next_page)\n",
    "\n",
    "import pymongo\n",
    "import json\n",
    "import pandas as pd"
   ]
  },
  {
   "cell_type": "code",
   "execution_count": 2,
   "metadata": {},
   "outputs": [],
   "source": [
    "#instantiate browser and set to Firefox\n",
    "browser = Firefox()\n",
    "\n",
    "url = \"\"\"https://www.cars.com/for-sale/searchresults.action/?\n",
    "mdId=22250&mkId=20088&prMx=50000&rd=99999&searchSource=QUICK\n",
    "_FORM&stkTypId=28881&zc=98101\"\"\"  \n",
    "\n",
    "browser.get(url)"
   ]
  },
  {
   "cell_type": "markdown",
   "metadata": {},
   "source": [
    "**MongoDB**"
   ]
  },
  {
   "cell_type": "code",
   "execution_count": 3,
   "metadata": {},
   "outputs": [],
   "source": [
    "#Used Toyota Tacomas"
   ]
  },
  {
   "cell_type": "code",
   "execution_count": 4,
   "metadata": {},
   "outputs": [],
   "source": [
    "mc = pymongo.MongoClient()\n",
    "\n",
    "cars_db = mc['carbitrage']\n",
    "\n",
    "tacomas_coll = cars_db['tacomas']"
   ]
  },
  {
   "cell_type": "code",
   "execution_count": 5,
   "metadata": {},
   "outputs": [],
   "source": [
    "#Run this if you want to clear mongodb collection:\n",
    "#tacomas_coll.delete_many({})"
   ]
  },
  {
   "cell_type": "code",
   "execution_count": 6,
   "metadata": {},
   "outputs": [],
   "source": [
    "for page in range(5):\n",
    "    prices = get_css_price(browser)\n",
    "    mileages = get_css_mileage(browser)\n",
    "    titles,years = get_css_title_and_year(browser)\n",
    "    get_next_page(browser) #screen size could \n",
    "    #break this due to Cars.com Compare Tray\n",
    "    tacomas_coll.insert_many(prep_lists_for_mongo(\n",
    "        titles,years,prices,mileages))\n",
    "    time.sleep(10 + random.random()*10)"
   ]
  },
  {
   "cell_type": "code",
   "execution_count": 7,
   "metadata": {},
   "outputs": [
    {
     "data": {
      "text/plain": [
       "[{'_id': ObjectId('5d5b05b722ecec74e8304344'),\n",
       "  'title': '2013 Toyota Tacoma Base',\n",
       "  'year': '2013',\n",
       "  'price': '$25,598',\n",
       "  'miles': '57,591 mi.'},\n",
       " {'_id': ObjectId('5d5b05b722ecec74e8304345'),\n",
       "  'title': '2013 Toyota Tacoma PreRunner',\n",
       "  'year': '2013',\n",
       "  'price': '$20,990',\n",
       "  'miles': '104,358 mi.'},\n",
       " {'_id': ObjectId('5d5b05b722ecec74e8304346'),\n",
       "  'title': '2016 Toyota Tacoma TRD Sport',\n",
       "  'year': '2016',\n",
       "  'price': '$25,995',\n",
       "  'miles': '44,916 mi.'},\n",
       " {'_id': ObjectId('5d5b05b722ecec74e8304347'),\n",
       "  'title': '2016 Toyota Tacoma TRD Off Road',\n",
       "  'year': '2016',\n",
       "  'price': '$29,778',\n",
       "  'miles': '17,030 mi.'},\n",
       " {'_id': ObjectId('5d5b05b722ecec74e8304348'),\n",
       "  'title': '2016 Toyota Tacoma TRD Off Road',\n",
       "  'year': '2016',\n",
       "  'price': '$26,895',\n",
       "  'miles': '64,611 mi.'}]"
      ]
     },
     "execution_count": 7,
     "metadata": {},
     "output_type": "execute_result"
    }
   ],
   "source": [
    "list(tacomas_coll.find())[:5]"
   ]
  },
  {
   "cell_type": "code",
   "execution_count": null,
   "metadata": {},
   "outputs": [],
   "source": []
  }
 ],
 "metadata": {
  "kernelspec": {
   "display_name": "learn-env",
   "language": "python",
   "name": "learn-env"
  },
  "language_info": {
   "codemirror_mode": {
    "name": "ipython",
    "version": 3
   },
   "file_extension": ".py",
   "mimetype": "text/x-python",
   "name": "python",
   "nbconvert_exporter": "python",
   "pygments_lexer": "ipython3",
   "version": "3.6.6"
  }
 },
 "nbformat": 4,
 "nbformat_minor": 2
}
